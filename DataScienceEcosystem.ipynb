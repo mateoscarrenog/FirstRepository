{
 "cells": [
  {
   "cell_type": "markdown",
   "id": "fd9addf9-7c2d-4c3e-a615-85429a6c38eb",
   "metadata": {},
   "source": [
    "# Data Science Tools and Ecosystem"
   ]
  },
  {
   "cell_type": "markdown",
   "id": "5301dfc4-b156-409a-b933-25eeebb0899a",
   "metadata": {},
   "source": [
    "In this notebook, Data Science Tools and Ecosystem are summarized."
   ]
  },
  {
   "cell_type": "markdown",
   "id": "f0e20a78-4773-4a99-b74a-15906f29fa58",
   "metadata": {},
   "source": [
    "**Objectives:**\n",
    "* Popular languages in data science\n",
    "* Commonly used libraries by data scientists:\n",
    "* Data science tools"
   ]
  },
  {
   "cell_type": "markdown",
   "id": "361b3fda-d5a9-4bc4-ad35-65c208c89f09",
   "metadata": {},
   "source": [
    "Some of the popular languages that Data Scientists use are:\n",
    "\n",
    "1. R\n",
    "2. Python\n",
    "3. SQL\n",
    "4. Java"
   ]
  },
  {
   "cell_type": "markdown",
   "id": "c08a2d00-34e3-44ab-9a0f-32fd03b64d06",
   "metadata": {},
   "source": [
    "Some of the commonly used libraries used by Data Scientists include:\n",
    "\n",
    "1. Pandas\n",
    "2. NumPy\n",
    "3. SciPy \n",
    "4. MatplotLib"
   ]
  },
  {
   "cell_type": "markdown",
   "id": "e96def78-8da3-48bd-b534-41f6a91e0d34",
   "metadata": {},
   "source": [
    "| Data Science Tools      |\n",
    "|--------------------------|\n",
    "| Jupyter Notebook         |\n",
    "| RStudio                  |\n",
    "| Apache Zeppelin          |"
   ]
  },
  {
   "cell_type": "markdown",
   "id": "354015d2-a627-4e41-9328-fa03526b8f8a",
   "metadata": {},
   "source": [
    "### Below are a few examples of evaluating arithmetic expressions in Python"
   ]
  },
  {
   "cell_type": "code",
   "execution_count": 7,
   "id": "398387db-0c82-452c-8e8e-86552c159b2d",
   "metadata": {},
   "outputs": [
    {
     "name": "stdout",
     "output_type": "stream",
     "text": [
      "The result of the operation is:  17\n"
     ]
    }
   ],
   "source": [
    "# This a simple arithmetic expression to mutiply then add integers\n",
    "print(\"The result of the operation is: \",  (3*4)+5)"
   ]
  },
  {
   "cell_type": "code",
   "execution_count": 9,
   "id": "76262856-30f9-482d-b877-a615915b9358",
   "metadata": {},
   "outputs": [
    {
     "name": "stdout",
     "output_type": "stream",
     "text": [
      "The result of the operation is:  3.33 hours\n"
     ]
    }
   ],
   "source": [
    "# This will convert 200 minutes to hours by diving by 60\n",
    "print(\"The result of the operation is: \", round(200/60,2), \"hours\")"
   ]
  },
  {
   "cell_type": "markdown",
   "id": "33ddc42e-e7fa-48b7-94cf-795237ae040b",
   "metadata": {},
   "source": [
    "## Author\n",
    "Mateo Santiago Carreño Guevara"
   ]
  }
 ],
 "metadata": {
  "kernelspec": {
   "display_name": "Python 3 (ipykernel)",
   "language": "python",
   "name": "python3"
  },
  "language_info": {
   "codemirror_mode": {
    "name": "ipython",
    "version": 3
   },
   "file_extension": ".py",
   "mimetype": "text/x-python",
   "name": "python",
   "nbconvert_exporter": "python",
   "pygments_lexer": "ipython3",
   "version": "3.13.1"
  }
 },
 "nbformat": 4,
 "nbformat_minor": 5
}
